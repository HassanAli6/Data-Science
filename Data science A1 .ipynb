{
 "cells": [
  {
   "cell_type": "code",
   "execution_count": 44,
   "source": [
    "#Write a Python program to print the following string in a specific format (see the output).\r\n",
    "print(\"Twinkle, twinkle, little star, \\n\\tHow I wonder what you are! \\n\\t\\tUp above the world so high, \\n\\t\\tLike a diamond in the sky. \\nTwinkle, twinkle, little star, \\n\\tHow I wonder what you are!\")\r\n",
    "\r\n"
   ],
   "outputs": [
    {
     "output_type": "stream",
     "name": "stdout",
     "text": [
      "Twinkle, twinkle, little star, \n",
      "\tHow I wonder what you are! \n",
      "\t\tUp above the world so high, \n",
      "\t\tLike a diamond in the sky. \n",
      "Twinkle, twinkle, little star, \n",
      "\tHow I wonder what you are!\n"
     ]
    }
   ],
   "metadata": {}
  },
  {
   "cell_type": "code",
   "execution_count": 2,
   "source": [
    "#Write a Python program to get the Python version you are using\r\n",
    "import sys\r\n",
    "print(\"Python Version\")\r\n",
    "print (sys.version)\r\n",
    "print(\"Version info.\")\r\n",
    "print (sys.version_info)"
   ],
   "outputs": [
    {
     "output_type": "stream",
     "name": "stdout",
     "text": [
      "Python Version\n",
      "3.8.8 (default, Apr 13 2021, 15:08:03) [MSC v.1916 64 bit (AMD64)]\n",
      "Version info.\n",
      "sys.version_info(major=3, minor=8, micro=8, releaselevel='final', serial=0)\n"
     ]
    }
   ],
   "metadata": {}
  },
  {
   "cell_type": "code",
   "execution_count": 7,
   "source": [
    "#Write a Python program to display the current date and time.\r\n",
    "import datetime\r\n",
    "now = datetime.datetime.now()\r\n",
    "print (\"Current date and time is : \")\r\n",
    "print (now.strftime(\"%y-%m-%d %H:%M:%S\"))"
   ],
   "outputs": [
    {
     "output_type": "stream",
     "name": "stdout",
     "text": [
      "Current date and time is : \n",
      "21-10-23 15:19:27\n"
     ]
    }
   ],
   "metadata": {}
  },
  {
   "cell_type": "code",
   "execution_count": 10,
   "source": [
    "#Write a Python program which accepts the radius of a circle from the user and compute the area.\r\n",
    "from math import pi\r\n",
    "r = float(input (\"Give the radius of the circle : \"))\r\n",
    "print (\"The area after compute \" + str(r) + \" is: \" + str(pi * r**2))"
   ],
   "outputs": [
    {
     "output_type": "stream",
     "name": "stdout",
     "text": [
      "Give the radius of the circle : 3.1\n",
      "The area after compute 3.1 is: 30.190705400997917\n"
     ]
    }
   ],
   "metadata": {}
  },
  {
   "cell_type": "code",
   "execution_count": 12,
   "source": [
    "#Write a Python program which accepts the user's first and last name and print them in reverse order with a space between them.\r\n",
    "FirstName=input(\"Write Your First Name : \")\r\n",
    "LastName = input(\"Write Your Last Name : \")\r\n",
    "\r\n",
    "print (LastName + \" \" + FirstName)"
   ],
   "outputs": [
    {
     "output_type": "stream",
     "name": "stdout",
     "text": [
      "Write Your First Name : Hassan\n",
      "Write Your Last Name : Ali\n",
      "Ali Hassan\n"
     ]
    }
   ],
   "metadata": {}
  },
  {
   "cell_type": "code",
   "execution_count": 15,
   "source": [
    "#Write a python program which takes two inputs from user and print them addition\r\n",
    "FirstNum= int(input(\"Enter first number:\"))\r\n",
    "SecondNum = int(input(\"Enter second number:\"))\r\n",
    "Addition = FirstNum+SecondNum\r\n",
    "print(\"Addition of both numbers is:\");\r\n",
    "print(Addition)"
   ],
   "outputs": [
    {
     "output_type": "stream",
     "name": "stdout",
     "text": [
      "Enter first number:5\n",
      "Enter second number:6\n",
      "Addition of both numbers is:\n",
      "11\n"
     ]
    }
   ],
   "metadata": {}
  }
 ],
 "metadata": {
  "kernelspec": {
   "display_name": "Python 3",
   "language": "python",
   "name": "python3"
  },
  "language_info": {
   "codemirror_mode": {
    "name": "ipython",
    "version": 3
   },
   "file_extension": ".py",
   "mimetype": "text/x-python",
   "name": "python",
   "nbconvert_exporter": "python",
   "pygments_lexer": "ipython3",
   "version": "3.8.8"
  }
 },
 "nbformat": 4,
 "nbformat_minor": 5
}